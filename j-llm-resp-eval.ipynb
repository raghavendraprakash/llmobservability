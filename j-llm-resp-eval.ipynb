{
 "cells": [
  {
   "cell_type": "markdown",
   "id": "593d21f4-ba29-4dc6-8d02-37875ffae77e",
   "metadata": {},
   "source": [
    "### Configure Evaluation parameters"
   ]
  },
  {
   "cell_type": "code",
   "execution_count": null,
   "id": "f55d165a-8210-4e40-befb-02dd5bfff585",
   "metadata": {},
   "outputs": [],
   "source": [
    "import os\n",
    "os.system('export AWS_PROFILE=default')\n",
    "os.environ[\"LANGFUSE_PUBLIC_KEY\"] = 'pk-lf-c8ec60a4-3f7e-4e65-8eda-09e76f796b3f'\n",
    "os.environ[\"LANGFUSE_SECRET_KEY\"] = 'sk-lf-0ffdfee6-4e88-4110-85ef-b6e153382c81'\n",
    "os.environ[\"LANGFUSE_HOST\"] = 'http://localhost:3000'"
   ]
  },
  {
   "cell_type": "code",
   "execution_count": null,
   "id": "ecfbc802-0741-417c-9c37-721f1e3b803a",
   "metadata": {},
   "outputs": [],
   "source": [
    "# Langchain Eval types\n",
    "EVAL_TYPES={\n",
    "    \"hallucination\": True,\n",
    "    \"conciseness\": True,\n",
    "    \"relevance\": True,\n",
    "    \"coherence\": True,\n",
    "    \"harmfulness\": True,\n",
    "    \"maliciousness\": True,\n",
    "    \"helpfulness\": True,\n",
    "    \"controversiality\": True,\n",
    "    \"misogyny\": True,\n",
    "    \"criminality\": True,\n",
    "    \"insensitivity\": True\n",
    "}"
   ]
  },
  {
   "cell_type": "code",
   "execution_count": null,
   "id": "30447959-f736-47e8-a38f-53a55d60a998",
   "metadata": {},
   "outputs": [],
   "source": [
    "from langfuse import Langfuse\n",
    " \n",
    "langfuse = Langfuse()"
   ]
  },
  {
   "cell_type": "markdown",
   "id": "feda8351-a0da-403c-bf62-4662318e2ba1",
   "metadata": {},
   "source": [
    "### Fetch data from all the LLM generations (effectively, LLM responses)"
   ]
  },
  {
   "cell_type": "code",
   "execution_count": null,
   "id": "6b7e6869-56d1-4c9a-83fb-43625e86e65d",
   "metadata": {},
   "outputs": [],
   "source": [
    "def fetch_all_pages(name=None, user_id = None, limit=50):\n",
    "    page = 1\n",
    "    all_data = []\n",
    " \n",
    "    while True:\n",
    "        response = langfuse.get_generations(name=name, limit=limit, user_id=user_id, page=page)\n",
    "        if not response.data:\n",
    "            break\n",
    " \n",
    "        all_data.extend(response.data)\n",
    "        page += 1\n",
    " \n",
    "    return all_data"
   ]
  },
  {
   "cell_type": "code",
   "execution_count": null,
   "id": "8d5aaf9f-d510-4436-8d77-2bff5a7dce6a",
   "metadata": {},
   "outputs": [],
   "source": [
    "generations = fetch_all_pages()"
   ]
  },
  {
   "cell_type": "markdown",
   "id": "9e9a183b-a74c-41f9-aaaa-fc254447b4ef",
   "metadata": {},
   "source": [
    "### Using Amazon Titan Text express (SLM variant) for evaluating responses"
   ]
  },
  {
   "cell_type": "code",
   "execution_count": null,
   "id": "87fb2c1d-e5ad-4c08-bb08-d9b03484991f",
   "metadata": {},
   "outputs": [],
   "source": [
    "from langchain.evaluation import load_evaluator\n",
    "from langchain.evaluation.criteria import LabeledCriteriaEvalChain\n",
    "from langchain_aws import BedrockLLM\n",
    " \n",
    "def get_evaluator_for_key(key: str):\n",
    "  llm = BedrockLLM(\n",
    "    credentials_profile_name=\"default\", model_id=\"amazon.titan-text-express-v1\"\n",
    "  )\n",
    "  return load_evaluator(\"criteria\", criteria=key, llm=llm)\n",
    " \n",
    "def get_hallucination_eval():\n",
    "  criteria = {\n",
    "    \"hallucination\": (\n",
    "      \"Does this submission contain information\"\n",
    "      \" not present in the input or reference?\"\n",
    "    ),\n",
    "  }\n",
    "  llm = BedrockLLM(\n",
    "    credentials_profile_name=\"default\", model_id=\"amazon.titan-text-express-v1\"\n",
    "  )\n",
    " \n",
    "  return LabeledCriteriaEvalChain.from_llm(\n",
    "      llm=llm,\n",
    "      criteria=criteria,\n",
    "  )"
   ]
  },
  {
   "cell_type": "markdown",
   "id": "18587a76-b4b1-4322-b782-d6deb5014cf4",
   "metadata": {},
   "source": [
    "#### After running this, check Langfuse console for the scores"
   ]
  },
  {
   "cell_type": "code",
   "execution_count": null,
   "id": "7e1a6e5b-7350-4376-832c-c70b06a2a937",
   "metadata": {},
   "outputs": [],
   "source": [
    "def execute_eval_and_score():\n",
    " \n",
    "  for generation in generations:\n",
    "    criteria = [key for key, value in EVAL_TYPES.items() if value and key != \"hallucination\"]\n",
    " \n",
    "    for criterion in criteria:\n",
    "      eval_result = get_evaluator_for_key(criterion).evaluate_strings(\n",
    "          prediction=generation.output,\n",
    "          input=generation.input,\n",
    "      )\n",
    "      print(eval_result)\n",
    " \n",
    "      langfuse.score(name=criterion, trace_id=generation.trace_id, observation_id=generation.id, value=eval_result[\"score\"], comment=eval_result['reasoning'])\n",
    " \n"
   ]
  },
  {
   "cell_type": "code",
   "execution_count": null,
   "id": "46ee6de7-400b-434d-8acc-30b3ed328a41",
   "metadata": {},
   "outputs": [],
   "source": [
    "execute_eval_and_score() "
   ]
  },
  {
   "cell_type": "code",
   "execution_count": null,
   "id": "030e9b96-d1b6-47ac-9443-07858d380437",
   "metadata": {},
   "outputs": [],
   "source": [
    "# hallucination\n",
    " \n",
    " \n",
    "def eval_hallucination():\n",
    " \n",
    "  chain = get_hallucination_eval()\n",
    " \n",
    "  for generation in generations:\n",
    "    eval_result = chain.evaluate_strings(\n",
    "      prediction=generation.output,\n",
    "      input=generation.input,\n",
    "      reference=generation.input\n",
    "    )\n",
    "    print(eval_result)\n",
    "    if eval_result is not None and eval_result[\"score\"] is not None and eval_result[\"reasoning\"] is not None:\n",
    "      langfuse.score(name='hallucination', trace_id=generation.trace_id, observation_id=generation.id, value=eval_result[\"score\"], comment=eval_result['reasoning'])\n",
    " "
   ]
  },
  {
   "cell_type": "code",
   "execution_count": null,
   "id": "61116d9a-8b97-44a5-a216-f1c469975f6d",
   "metadata": {},
   "outputs": [],
   "source": [
    "if EVAL_TYPES.get(\"hallucination\") == True:\n",
    "  eval_hallucination()"
   ]
  },
  {
   "cell_type": "code",
   "execution_count": null,
   "id": "5e00ebb2-806c-4430-9117-bd5c99d6824d",
   "metadata": {},
   "outputs": [],
   "source": [
    "# SDK is async, make sure to await all requests\n",
    "langfuse.flush()"
   ]
  }
 ],
 "metadata": {
  "kernelspec": {
   "display_name": "Python 3 (ipykernel)",
   "language": "python",
   "name": "python3"
  },
  "language_info": {
   "codemirror_mode": {
    "name": "ipython",
    "version": 3
   },
   "file_extension": ".py",
   "mimetype": "text/x-python",
   "name": "python",
   "nbconvert_exporter": "python",
   "pygments_lexer": "ipython3",
   "version": "3.12.3"
  }
 },
 "nbformat": 4,
 "nbformat_minor": 5
}
